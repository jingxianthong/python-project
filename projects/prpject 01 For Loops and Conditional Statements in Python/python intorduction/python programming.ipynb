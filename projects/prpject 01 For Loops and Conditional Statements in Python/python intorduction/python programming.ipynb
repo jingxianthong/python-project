{
 "cells": [
  {
   "cell_type": "code",
   "execution_count": 1,
   "id": "69021a04",
   "metadata": {},
   "outputs": [
    {
     "name": "stdout",
     "output_type": "stream",
     "text": [
      "30\n"
     ]
    }
   ],
   "source": [
    "print(23 + 7 )"
   ]
  },
  {
   "cell_type": "code",
   "execution_count": 2,
   "id": "4d7cf5fe",
   "metadata": {},
   "outputs": [
    {
     "name": "stdout",
     "output_type": "stream",
     "text": [
      "6.99\n",
      "1.0\n"
     ]
    }
   ],
   "source": [
    "print( 0.00 + 6.99)\n",
    "print( 4.5 - 3.5)"
   ]
  },
  {
   "cell_type": "code",
   "execution_count": 3,
   "id": "19e7cf38",
   "metadata": {},
   "outputs": [
    {
     "name": "stdout",
     "output_type": "stream",
     "text": [
      "0.0\n",
      "2130805\n",
      "4.5\n"
     ]
    }
   ],
   "source": [
    "print(0.00)\n",
    "print(2130805) \n",
    "print(4.5)"
   ]
  },
  {
   "cell_type": "code",
   "execution_count": 4,
   "id": "ea136745",
   "metadata": {},
   "outputs": [
    {
     "name": "stdout",
     "output_type": "stream",
     "text": [
      "8.98\n"
     ]
    }
   ],
   "source": [
    "print ( 1.99 + 6.99)\n"
   ]
  },
  {
   "cell_type": "code",
   "execution_count": 5,
   "id": "0f0ddc20",
   "metadata": {},
   "outputs": [
    {
     "name": "stdout",
     "output_type": "stream",
     "text": [
      "6.99\n",
      "522012\n",
      "4.5\n"
     ]
    }
   ],
   "source": [
    "print(6.99)\n",
    "print(522012)\n",
    "print(4.5)"
   ]
  },
  {
   "cell_type": "code",
   "execution_count": 6,
   "id": "d787a88a",
   "metadata": {},
   "outputs": [
    {
     "name": "stdout",
     "output_type": "stream",
     "text": [
      "160\n",
      "9.6\n",
      "125\n"
     ]
    }
   ],
   "source": [
    "print ( 16 * 10)\n",
    "print ( 48 / 5)\n",
    "print (5**3)"
   ]
  },
  {
   "cell_type": "code",
   "execution_count": null,
   "id": "f4c417ee",
   "metadata": {},
   "outputs": [],
   "source": []
  }
 ],
 "metadata": {
  "interpreter": {
   "hash": "4e393e87d09720360b1b69865354fe84f16943cdd94bb559743b53de59b1c828"
  },
  "kernelspec": {
   "display_name": "Python 3.10.6 64-bit (windows store)",
   "language": "python",
   "name": "python3"
  },
  "language_info": {
   "codemirror_mode": {
    "name": "ipython",
    "version": 3
   },
   "file_extension": ".py",
   "mimetype": "text/x-python",
   "name": "python",
   "nbconvert_exporter": "python",
   "pygments_lexer": "ipython3",
   "version": "3.10.6"
  }
 },
 "nbformat": 4,
 "nbformat_minor": 5
}
