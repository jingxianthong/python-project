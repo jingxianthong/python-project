{
 "cells": [
  {
   "cell_type": "code",
   "execution_count": 1,
   "metadata": {},
   "outputs": [
    {
     "name": "stdout",
     "output_type": "stream",
     "text": [
      "1.99\n",
      "20.97\n"
     ]
    }
   ],
   "source": [
    "personal_apps = 0\n",
    "personal_apps += 1.99\n",
    "\n",
    "gift_apps = 6.99\n",
    "gift_apps *= 3\n",
    "\n",
    "print(personal_apps)\n",
    "print(gift_apps)"
   ]
  },
  {
   "cell_type": "code",
   "execution_count": 2,
   "metadata": {},
   "outputs": [
    {
     "name": "stdout",
     "output_type": "stream",
     "text": [
      "1.99\n",
      "20.97\n",
      "2\n",
      "20\n"
     ]
    }
   ],
   "source": [
    "personal_apps = 0\n",
    "personal_apps += 1.99\n",
    "\n",
    "gift_apps = 6.99\n",
    "gift_apps *= 3 \n",
    "\n",
    "print(personal_apps)\n",
    "print(gift_apps)\n",
    "\n",
    "personal_apps = round(personal_apps)\n",
    "gift_apps = int(gift_apps)\n",
    "\n",
    "print(personal_apps)\n",
    "print(gift_apps)\n"
   ]
  },
  {
   "cell_type": "code",
   "execution_count": 3,
   "metadata": {},
   "outputs": [
    {
     "name": "stdout",
     "output_type": "stream",
     "text": [
      "<class 'str'>\n",
      "Minecraft: Pocket Edition\n"
     ]
    }
   ],
   "source": [
    "app_name = \"Minecraft: Pocket Edition\"\n",
    "print(type(\"Minecraft: Pocket Edition\"))\n",
    "\n",
    "average_rating = \"4.5\"\n",
    "total_ratings = \"522012\"\n",
    "print(app_name)"
   ]
  },
  {
   "cell_type": "code",
   "execution_count": 6,
   "metadata": {},
   "outputs": [
    {
     "name": "stdout",
     "output_type": "stream",
     "text": [
      "Facebook's new motto is \"move fast with stable infra.\"\n"
     ]
    }
   ],
   "source": [
    "motto = 'Facebook\\'s new motto is \"move fast with stable infra.\"'\n",
    "print(motto)"
   ]
  },
  {
   "cell_type": "code",
   "execution_count": 7,
   "metadata": {},
   "outputs": [
    {
     "name": "stdout",
     "output_type": "stream",
     "text": [
      "Facebook's rating is 3.5\n"
     ]
    }
   ],
   "source": [
    "facebook = 'Facebook\\'s rating is'\n",
    "fb_rating_str = '3.5'\n",
    "fb = facebook +' ' +fb_rating_str\n",
    "print(fb)"
   ]
  },
  {
   "cell_type": "code",
   "execution_count": 8,
   "metadata": {},
   "outputs": [
    {
     "name": "stdout",
     "output_type": "stream",
     "text": [
      "Facebook's rating is 3.5\n"
     ]
    }
   ],
   "source": [
    "facebook = 'Facebook\\'s rating is'\n",
    "fb_rating = '3.5'\n",
    "fb_rating_str = str(fb_rating)\n",
    "fb = facebook + ' ' + fb_rating_str\n",
    "print(fb)"
   ]
  },
  {
   "cell_type": "code",
   "execution_count": 9,
   "metadata": {},
   "outputs": [
    {
     "name": "stdout",
     "output_type": "stream",
     "text": [
      "Facebook's old motto was 'move fast and break things'.\n",
      "Facebook's new motto is 'moving fast with stable infra'.\n"
     ]
    }
   ],
   "source": [
    "motto = '''Facebook's old motto was 'move fast and break things'.\n",
    "Facebook's new motto is 'moving fast with stable infra'.'''\n",
    "print(motto)\n"
   ]
  },
  {
   "cell_type": "code",
   "execution_count": null,
   "metadata": {},
   "outputs": [],
   "source": []
  }
 ],
 "metadata": {
  "interpreter": {
   "hash": "4e393e87d09720360b1b69865354fe84f16943cdd94bb559743b53de59b1c828"
  },
  "kernelspec": {
   "display_name": "Python 3.10.6 64-bit (windows store)",
   "language": "python",
   "name": "python3"
  },
  "language_info": {
   "codemirror_mode": {
    "name": "ipython",
    "version": 3
   },
   "file_extension": ".py",
   "mimetype": "text/x-python",
   "name": "python",
   "nbconvert_exporter": "python",
   "pygments_lexer": "ipython3",
   "version": "3.10.6"
  },
  "orig_nbformat": 4
 },
 "nbformat": 4,
 "nbformat_minor": 2
}
