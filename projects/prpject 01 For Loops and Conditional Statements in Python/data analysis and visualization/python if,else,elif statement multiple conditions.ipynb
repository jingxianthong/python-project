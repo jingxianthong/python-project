{
 "cells": [
  {
   "cell_type": "code",
   "execution_count": 1,
   "metadata": {},
   "outputs": [
    {
     "name": "stdout",
     "output_type": "stream",
     "text": [
      "4.5\n"
     ]
    }
   ],
   "source": [
    "opened_file = open('AppleStore.csv')\n",
    "from csv import reader\n",
    "read_file = reader(opened_file)\n",
    "apps_data = list(read_file)\n",
    "\n",
    "free_games_ratings = []\n",
    "for row in apps_data[1:]:\n",
    "    rating = float(row[8])\n",
    "    price = float(row[5])\n",
    "    genre = row[12]\n",
    "    # Complete code from here\n",
    "    if price == 0.0 and genre == 'Games':\n",
    "        free_games_ratings.append(rating)\n",
    "        \n",
    "avg_rating_free_games = sum(free_games_ratings) / len(free_games_ratings)\n",
    "print(avg_rating_free_games)\n",
    "    \n"
   ]
  },
  {
   "cell_type": "code",
   "execution_count": 2,
   "metadata": {},
   "outputs": [
    {
     "name": "stdout",
     "output_type": "stream",
     "text": [
      "4.5\n"
     ]
    }
   ],
   "source": [
    "opened_file = open('AppleStore.csv')\n",
    "from csv import reader\n",
    "read_file = reader(opened_file)\n",
    "apps_data = list(read_file)\n",
    "\n",
    "games_social_ratings = []\n",
    "for row in apps_data[1:]:\n",
    "    rating = float(row[8])\n",
    "    genre = row[12]\n",
    "    # Complete code from here\n",
    "    \n",
    "    if genre == 'Social Networking' or genre == 'Games':\n",
    "        games_social_ratings.append(rating)\n",
    "\n",
    "avg_games_social = sum(games_social_ratings) / len(games_social_ratings)\n",
    "print(avg_games_social)"
   ]
  },
  {
   "cell_type": "code",
   "execution_count": 3,
   "metadata": {},
   "outputs": [
    {
     "name": "stdout",
     "output_type": "stream",
     "text": [
      "4.5\n"
     ]
    }
   ],
   "source": [
    "opened_file = open('AppleStore.csv')\n",
    "from csv import reader\n",
    "read_file = reader(opened_file)\n",
    "apps_data = list(read_file)\n",
    "\n",
    "not_free_games_social_ratings = []\n",
    "for row in apps_data[1:]:\n",
    "    rating = float(row[8])\n",
    "    genre = row[12]\n",
    "    #print(genre)\n",
    "    price = float(row[5])\n",
    "    \n",
    "    if (genre == 'Social Networking' or genre == 'Games') and price != 0:\n",
    "        not_free_games_social_ratings.append(rating)\n",
    "        \n",
    "avg_not_free = sum(not_free_games_social_ratings) / len(not_free_games_social_ratings)\n",
    "print(avg_not_free)"
   ]
  },
  {
   "cell_type": "code",
   "execution_count": 4,
   "metadata": {},
   "outputs": [
    {
     "name": "stdout",
     "output_type": "stream",
     "text": [
      "y is not equal to z\n",
      "z is between x and y\n"
     ]
    }
   ],
   "source": [
    "x = -6\n",
    "y = 14\n",
    "z = 8.5\n",
    "\n",
    "if (x > z):\n",
    "    print(\"x is greater than z\")\n",
    "\n",
    "if (y != z):\n",
    "    print(\"y is not equal to z\")\n",
    "\n",
    "if (z >= x and z <= y):\n",
    "    print(\"z is between x and y\")"
   ]
  },
  {
   "cell_type": "code",
   "execution_count": 5,
   "metadata": {},
   "outputs": [
    {
     "name": "stdout",
     "output_type": "stream",
     "text": [
      "4.5\n",
      "1\n",
      "4\n"
     ]
    }
   ],
   "source": [
    "opened_file = open('AppleStore.csv')\n",
    "from csv import reader\n",
    "read_file = reader(opened_file)\n",
    "apps_data = list(read_file)\n",
    "\n",
    "ratings = []\n",
    "for row in apps_data[1:]:\n",
    "    rating = float(row[8])\n",
    "    price = float(row[5])  \n",
    "    \n",
    "    if price >= 9:\n",
    "        ratings.append(rating)\n",
    "        \n",
    "avg_rating = sum(ratings) / len(ratings)\n",
    "print(avg_rating)\n",
    "n_apps_more_9 = len(ratings)\n",
    "print(n_apps_more_9)\n",
    "n_apps_less_9 = len(apps_data[1:]) - len(ratings)\n",
    "print(n_apps_less_9)"
   ]
  },
  {
   "cell_type": "code",
   "execution_count": 7,
   "metadata": {},
   "outputs": [
    {
     "name": "stdout",
     "output_type": "stream",
     "text": [
      "[['', 'id', 'track_name', 'size_bytes', 'currency', 'price', 'rating_count_tot', 'rating_court_ver', 'user_rating', 'user_rating_ver', 'ver', 'count_rating', 'prime_genre', 'sup_devices.num', 'ipadSc_urls.num', 'lang.num', 'vpp_lic', 'free_or_not'], ['0', '284882215', 'Facebook', '389879808', 'USD', '1', '2974676', '212', '3.5', '3.5', '95', '4+', 'Social', '37', '1', '29', '1', 'not free'], ['1', '389801252', 'Instagram', '113954816', 'USD', '9', '2161558', '1289', '4.5', '4', '10.23', '12+', 'Photo & Video', '37', '0', '29', '1', 'not free'], ['2', '529479190', 'Clash of clans', '116476928', 'USD', '5', '2130805', '579', '4.5', '4.5', '9.24.12', '9+', 'Games', '38', '5', '18', '1', 'not free'], ['3', '420009108', 'temple run', '65921024', 'USD', '0', '1724546', '3842', '4.5', '4', '1.6.2', '9+', 'Games', '40', '5', '1', '1', 'free'], ['4', '2840335177', 'Pandora - Music & Radio', '130242560', 'USD', '0', '1116879', '3594', '4', '4.5', '8.4.1', '12+', 'Music', '37', '4', '1', '1', 'free']]\n"
     ]
    }
   ],
   "source": [
    "opened_file = open('AppleStore.csv')\n",
    "from csv import reader\n",
    "read_file = reader(opened_file)\n",
    "apps_data = list(read_file)\n",
    "\n",
    "for app in apps_data[1:]:\n",
    "    price = float(app[5])\n",
    "    # Complete code from here\n",
    "\n",
    "\n",
    "    if price == 0.0:\n",
    "        app.append('free')\n",
    "    else:\n",
    "        app.append('not free')\n",
    "\n",
    "apps_data[0].append('free_or_not')\n",
    "print(apps_data[:7])"
   ]
  },
  {
   "cell_type": "code",
   "execution_count": 1,
   "metadata": {},
   "outputs": [
    {
     "name": "stdout",
     "output_type": "stream",
     "text": [
      "[['Facebook', 3.5, 'roughly average'], ['Notion', 4.0, 'better than average'], ['Astropad Standard', 4.5, 'better than average'], ['NAVIGON Europe', 3.5, 'roughly average']]\n"
     ]
    }
   ],
   "source": [
    "app_ratings = [['Facebook', 3.5], ['Notion', 4.0], ['Astropad Standard', 4.5], ['NAVIGON Europe', 3.5]]\n",
    "\n",
    "for app in app_ratings:\n",
    "    rating = app[1]\n",
    "    \n",
    "    if rating < 3.0:\n",
    "        app.append('below average')\n",
    "    elif rating >= 3.0 and rating < 4.0:\n",
    "        app.append('roughly average')\n",
    "    elif rating >= 4.0:\n",
    "        app.append('better than average')\n",
    "        \n",
    "print(app_ratings)"
   ]
  },
  {
   "cell_type": "code",
   "execution_count": 1,
   "metadata": {},
   "outputs": [
    {
     "name": "stdout",
     "output_type": "stream",
     "text": [
      "[['', 'id', 'track_name', 'size_bytes', 'currency', 'price', 'rating_count_tot', 'rating_court_ver', 'user_rating', 'user_rating_ver', 'ver', 'count_rating', 'prime_genre', 'sup_devices.num', 'ipadSc_urls.num', 'lang.num', 'vpp_lic', 'price_label'], ['0', '284882215', 'Facebook', '389879808', 'USD', '1', '2974676', '212', '3.5', '3.5', '95', '4+', 'Social', '37', '1', '29', '1', 'affordable'], ['1', '389801252', 'Instagram', '113954816', 'USD', '9', '2161558', '1289', '4.5', '4', '10.23', '12+', 'Photo & Video', '37', '0', '29', '1', 'affordable'], ['2', '529479190', 'Clash of clans', '116476928', 'USD', '5', '2130805', '579', '4.5', '4.5', '9.24.12', '9+', 'Games', '38', '5', '18', '1', 'affordable'], ['3', '420009108', 'temple run', '65921024', 'USD', '0', '1724546', '3842', '4.5', '4', '1.6.2', '9+', 'Games', '40', '5', '1', '1', 'free'], ['4', '2840335177', 'Pandora - Music & Radio', '130242560', 'USD', '0', '1116879', '3594', '4', '4.5', '8.4.1', '12+', 'Music', '37', '4', '1', '1', 'free']]\n"
     ]
    }
   ],
   "source": [
    "opened_file = open('AppleStore.csv')\n",
    "from csv import reader\n",
    "read_file = reader(opened_file)\n",
    "apps_data = list(read_file)\n",
    "\n",
    "for app in apps_data[1:]:\n",
    "    price = float(app[5])\n",
    "    # Complete code from here\n",
    "    if price == 0:\n",
    "        app.append('free')\n",
    "    elif price > 0 and price < 20:\n",
    "        app.append('affordable')\n",
    "    elif price >= 20 and price < 50:\n",
    "        app.append('expensive')\n",
    "    elif price >= 50:\n",
    "        app.append('very expensive')\n",
    "\n",
    "apps_data[0].append('price_label')\n",
    "print(apps_data[:7])"
   ]
  },
  {
   "cell_type": "code",
   "execution_count": 1,
   "metadata": {},
   "outputs": [],
   "source": []
  },
  {
   "cell_type": "code",
   "execution_count": null,
   "metadata": {},
   "outputs": [],
   "source": []
  }
 ],
 "metadata": {
  "kernelspec": {
   "display_name": "Python 3.10.6 64-bit (microsoft store)",
   "language": "python",
   "name": "python3"
  },
  "language_info": {
   "codemirror_mode": {
    "name": "ipython",
    "version": 3
   },
   "file_extension": ".py",
   "mimetype": "text/x-python",
   "name": "python",
   "nbconvert_exporter": "python",
   "pygments_lexer": "ipython3",
   "version": "3.10.6"
  },
  "orig_nbformat": 4,
  "vscode": {
   "interpreter": {
    "hash": "4e393e87d09720360b1b69865354fe84f16943cdd94bb559743b53de59b1c828"
   }
  }
 },
 "nbformat": 4,
 "nbformat_minor": 2
}
