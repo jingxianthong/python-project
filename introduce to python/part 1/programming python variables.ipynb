{
 "cells": [
  {
   "cell_type": "code",
   "execution_count": 2,
   "id": "69e4f6fa",
   "metadata": {},
   "outputs": [
    {
     "name": "stdout",
     "output_type": "stream",
     "text": [
      "13.98\n"
     ]
    }
   ],
   "source": [
    "result = 6.99 * 2\n",
    "print(result)"
   ]
  },
  {
   "cell_type": "code",
   "execution_count": 3,
   "id": "12ef089a",
   "metadata": {},
   "outputs": [
    {
     "name": "stdout",
     "output_type": "stream",
     "text": [
      "6.99\n",
      "3.98\n",
      "8.98\n"
     ]
    }
   ],
   "source": [
    "minecraft_cost = 6.99\n",
    "fruit_ninja_cost = 1.99*1\n",
    "print(minecraft_cost)\n",
    "print(fruit_ninja_cost + 1.99)\n",
    "print(fruit_ninja_cost + minecraft_cost)"
   ]
  },
  {
   "cell_type": "code",
   "execution_count": null,
   "id": "b0241b23",
   "metadata": {},
   "outputs": [],
   "source": [
    "facebook_rating = 3.5\n",
    "instagram_rating = 4.5\n"
   ]
  },
  {
   "cell_type": "code",
   "execution_count": null,
   "id": "6f0f430e",
   "metadata": {},
   "outputs": [],
   "source": [
    "rating_count_totals = 698516\n",
    "# Update rating_count_totals below:\n",
    "rating_count_totals = rating_count_totals + 522012\n",
    "print ( rating_count_totals)"
   ]
  },
  {
   "cell_type": "code",
   "execution_count": 4,
   "id": "e49a1368",
   "metadata": {},
   "outputs": [
    {
     "name": "stdout",
     "output_type": "stream",
     "text": [
      "7.96\n",
      "1220528\n"
     ]
    }
   ],
   "source": [
    "rating_count_totals = 698516\n",
    "rating_count_totals += 522012\n",
    "\n",
    "\n",
    "fruit_ninja_totals = 1.99\n",
    "fruit_ninja_totals *= 4\n",
    "\n",
    "\n",
    "print(fruit_ninja_totals)\n",
    "print(rating_count_totals)"
   ]
  },
  {
   "cell_type": "code",
   "execution_count": null,
   "id": "f08817d9",
   "metadata": {},
   "outputs": [],
   "source": []
  }
 ],
 "metadata": {
  "interpreter": {
   "hash": "4e393e87d09720360b1b69865354fe84f16943cdd94bb559743b53de59b1c828"
  },
  "kernelspec": {
   "display_name": "Python 3.10.6 64-bit (windows store)",
   "language": "python",
   "name": "python3"
  },
  "language_info": {
   "codemirror_mode": {
    "name": "ipython",
    "version": 3
   },
   "file_extension": ".py",
   "mimetype": "text/x-python",
   "name": "python",
   "nbconvert_exporter": "python",
   "pygments_lexer": "ipython3",
   "version": "3.10.6"
  }
 },
 "nbformat": 4,
 "nbformat_minor": 5
}
