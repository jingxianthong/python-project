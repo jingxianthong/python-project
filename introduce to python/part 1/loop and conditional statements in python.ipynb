{
 "cells": [
  {
   "cell_type": "code",
   "execution_count": 1,
   "id": "7601faa0",
   "metadata": {},
   "outputs": [
    {
     "name": "stdout",
     "output_type": "stream",
     "text": [
      "1.99\n",
      "20.97\n"
     ]
    }
   ],
   "source": [
    "personal_apps = 0\n",
    "personal_apps += 1.99\n",
    "\n",
    "gift_apps = 6.99\n",
    "gift_apps *= 3\n",
    "\n",
    "print(personal_apps)\n",
    "print(gift_apps)"
   ]
  },
  {
   "cell_type": "code",
   "execution_count": 2,
   "id": "0b32ba31",
   "metadata": {},
   "outputs": [
    {
     "name": "stdout",
     "output_type": "stream",
     "text": [
      "1.99\n",
      "20.97\n",
      "2\n",
      "20\n"
     ]
    }
   ],
   "source": [
    "personal_apps = 0\n",
    "personal_apps += 1.99\n",
    "\n",
    "gift_apps = 6.99\n",
    "gift_apps *= 3 \n",
    "\n",
    "print(personal_apps)\n",
    "print(gift_apps)\n",
    "\n",
    "personal_apps = round(personal_apps)\n",
    "gift_apps = int(gift_apps)\n",
    "\n",
    "print(personal_apps)\n",
    "print(gift_apps)\n"
   ]
  },
  {
   "cell_type": "code",
   "execution_count": null,
   "id": "69e4f6fa",
   "metadata": {},
   "outputs": [],
   "source": []
  }
 ],
 "metadata": {
  "kernelspec": {
   "display_name": "Python 3 (ipykernel)",
   "language": "python",
   "name": "python3"
  },
  "language_info": {
   "codemirror_mode": {
    "name": "ipython",
    "version": 3
   },
   "file_extension": ".py",
   "mimetype": "text/x-python",
   "name": "python",
   "nbconvert_exporter": "python",
   "pygments_lexer": "ipython3",
   "version": "3.10.6"
  }
 },
 "nbformat": 4,
 "nbformat_minor": 5
}
