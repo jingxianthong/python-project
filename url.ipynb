{
 "cells": [
  {
   "cell_type": "code",
   "execution_count": 1,
   "metadata": {},
   "outputs": [
    {
     "ename": "FileNotFoundError",
     "evalue": "[Errno 2] No such file or directory: 'inputURL.txt'",
     "output_type": "error",
     "traceback": [
      "\u001b[1;31m---------------------------------------------------------------------------\u001b[0m",
      "\u001b[1;31mFileNotFoundError\u001b[0m                         Traceback (most recent call last)",
      "\u001b[1;32mc:\\code\\Github\\python-project\\url.ipynb Cell 1\u001b[0m in \u001b[0;36m<cell line: 3>\u001b[1;34m()\u001b[0m\n\u001b[0;32m      <a href='vscode-notebook-cell:/c%3A/code/Github/python-project/url.ipynb#W0sZmlsZQ%3D%3D?line=0'>1</a>\u001b[0m \u001b[39mimport\u001b[39;00m \u001b[39mrequests\u001b[39;00m\n\u001b[1;32m----> <a href='vscode-notebook-cell:/c%3A/code/Github/python-project/url.ipynb#W0sZmlsZQ%3D%3D?line=2'>3</a>\u001b[0m URLInputFile \u001b[39m=\u001b[39m \u001b[39mopen\u001b[39;49m(\u001b[39m'\u001b[39;49m\u001b[39minputURL.txt\u001b[39;49m\u001b[39m'\u001b[39;49m, \u001b[39m'\u001b[39;49m\u001b[39mr\u001b[39;49m\u001b[39m'\u001b[39;49m)\n\u001b[0;32m      <a href='vscode-notebook-cell:/c%3A/code/Github/python-project/url.ipynb#W0sZmlsZQ%3D%3D?line=3'>4</a>\u001b[0m Lines \u001b[39m=\u001b[39m URLInputFile\u001b[39m.\u001b[39mreadlines()\n\u001b[0;32m      <a href='vscode-notebook-cell:/c%3A/code/Github/python-project/url.ipynb#W0sZmlsZQ%3D%3D?line=4'>5</a>\u001b[0m \u001b[39m#print(Lines)\u001b[39;00m\n",
      "\u001b[1;31mFileNotFoundError\u001b[0m: [Errno 2] No such file or directory: 'inputURL.txt'"
     ]
    }
   ],
   "source": [
    "import requests\n",
    "\n",
    "URLInputFile = open('inputURL.txt', 'r')\n",
    "Lines = URLInputFile.readlines()\n",
    "#print(Lines)\n",
    "outputfile = open('outputfile.txt', 'w')\n",
    "for line in Lines:    \n",
    "    ### using strip to remove newline at end of each readline\n",
    "    line = line.strip()\n",
    "\n",
    "    requestsobj  = requests.get(line)      \n",
    "    contentinfo = requestsobj.text\n",
    "    foundIndex = contentinfo.find(\"hour\")\n",
    "    infofound = contentinfo[foundIndex -3:foundIndex+5]\n",
    "\n",
    "    infofound = infofound.strip()\n",
    "    outputfile.write (infofound + \"\\n\")\n",
    "        \n",
    "outputfile.close()\n",
    "URLInputFile.close()"
   ]
  },
  {
   "cell_type": "code",
   "execution_count": 62,
   "metadata": {},
   "outputs": [
    {
     "name": "stdout",
     "output_type": "stream",
     "text": [
      "7\n",
      "15\n",
      "7\n",
      "5\n",
      "Total time\n",
      "34\n"
     ]
    }
   ],
   "source": [
    "outputfile = open('outputfile.txt', 'r')\n",
    "Lines = outputfile.readlines()\n",
    "#print(Lines)\n",
    "itotal = 0\n",
    "for line in Lines:\n",
    "    #print(line)\n",
    "    line=line.replace(\"hours\",\"\")\n",
    "    line = line.replace(\" \",\"\")\n",
    "    #print(line)\n",
    "\n",
    "    #print(line)\n",
    "    #print(infofound)\n",
    "    #print(int(infofound))\n",
    "    iValue = int(line)\n",
    "    print(iValue)\n",
    "    itotal += iValue\n",
    "\n",
    "\n",
    "print(\"Total time\")\n",
    "print(itotal)"
   ]
  },
  {
   "cell_type": "code",
   "execution_count": 66,
   "metadata": {},
   "outputs": [
    {
     "data": {
      "text/html": [
       "<div>\n",
       "<style scoped>\n",
       "    .dataframe tbody tr th:only-of-type {\n",
       "        vertical-align: middle;\n",
       "    }\n",
       "\n",
       "    .dataframe tbody tr th {\n",
       "        vertical-align: top;\n",
       "    }\n",
       "\n",
       "    .dataframe thead th {\n",
       "        text-align: right;\n",
       "    }\n",
       "</style>\n",
       "<table border=\"1\" class=\"dataframe\">\n",
       "  <thead>\n",
       "    <tr style=\"text-align: right;\">\n",
       "      <th></th>\n",
       "      <th>HOURS</th>\n",
       "    </tr>\n",
       "  </thead>\n",
       "  <tbody>\n",
       "    <tr>\n",
       "      <th>0</th>\n",
       "      <td>7 hours</td>\n",
       "    </tr>\n",
       "    <tr>\n",
       "      <th>1</th>\n",
       "      <td>15 hours</td>\n",
       "    </tr>\n",
       "    <tr>\n",
       "      <th>2</th>\n",
       "      <td>7 hours</td>\n",
       "    </tr>\n",
       "    <tr>\n",
       "      <th>3</th>\n",
       "      <td>5 hours</td>\n",
       "    </tr>\n",
       "  </tbody>\n",
       "</table>\n",
       "</div>"
      ],
      "text/plain": [
       "      HOURS\n",
       "0   7 hours\n",
       "1  15 hours\n",
       "2   7 hours\n",
       "3   5 hours"
      ]
     },
     "execution_count": 66,
     "metadata": {},
     "output_type": "execute_result"
    }
   ],
   "source": [
    "import pandas as pd\n",
    "df = pd.read_csv('outputfile.txt')\n",
    "display(df)"
   ]
  },
  {
   "cell_type": "code",
   "execution_count": 73,
   "metadata": {},
   "outputs": [
    {
     "data": {
      "text/html": [
       "<div>\n",
       "<style scoped>\n",
       "    .dataframe tbody tr th:only-of-type {\n",
       "        vertical-align: middle;\n",
       "    }\n",
       "\n",
       "    .dataframe tbody tr th {\n",
       "        vertical-align: top;\n",
       "    }\n",
       "\n",
       "    .dataframe thead th {\n",
       "        text-align: right;\n",
       "    }\n",
       "</style>\n",
       "<table border=\"1\" class=\"dataframe\">\n",
       "  <thead>\n",
       "    <tr style=\"text-align: right;\">\n",
       "      <th></th>\n",
       "      <th>HOURS</th>\n",
       "    </tr>\n",
       "  </thead>\n",
       "  <tbody>\n",
       "    <tr>\n",
       "      <th>0</th>\n",
       "      <td>7</td>\n",
       "    </tr>\n",
       "    <tr>\n",
       "      <th>1</th>\n",
       "      <td>15</td>\n",
       "    </tr>\n",
       "    <tr>\n",
       "      <th>2</th>\n",
       "      <td>7</td>\n",
       "    </tr>\n",
       "    <tr>\n",
       "      <th>3</th>\n",
       "      <td>5</td>\n",
       "    </tr>\n",
       "  </tbody>\n",
       "</table>\n",
       "</div>"
      ],
      "text/plain": [
       "   HOURS\n",
       "0      7\n",
       "1     15\n",
       "2      7\n",
       "3      5"
      ]
     },
     "metadata": {},
     "output_type": "display_data"
    },
    {
     "name": "stdout",
     "output_type": "stream",
     "text": [
      "HOURS\n"
     ]
    }
   ],
   "source": [
    "import requests\n",
    "import pandas as pd\n",
    "\n",
    "outputfilename = 'outputfile2.txt'\n",
    "URLInputFile = open('inputURL.txt', 'r')\n",
    "Lines = URLInputFile.readlines()\n",
    "#print(Lines)\n",
    "outputfile = open(outputfilename, 'w')\n",
    "outputfile.write('HOURS\\n')\n",
    "for line in Lines:    \n",
    "    ### using strip to remove newline at end of each readline\n",
    "    line = line.strip()\n",
    "    requestsobj  = requests.get(line)      \n",
    "    contentinfo = requestsobj.text\n",
    "    foundIndex = contentinfo.find(\"hour\")\n",
    "    infofound = contentinfo[foundIndex -3:foundIndex]\n",
    "\n",
    "    infofound = infofound.strip()\n",
    "    outputfile.write (infofound + \"\\n\")\n",
    "        \n",
    "outputfile.close()\n",
    "URLInputFile.close()\n",
    "df = pd.read_csv(outputfilename)\n",
    "display(df)\n",
    "\n"
   ]
  },
  {
   "cell_type": "code",
   "execution_count": 92,
   "metadata": {},
   "outputs": [
    {
     "data": {
      "text/html": [
       "<div>\n",
       "<style scoped>\n",
       "    .dataframe tbody tr th:only-of-type {\n",
       "        vertical-align: middle;\n",
       "    }\n",
       "\n",
       "    .dataframe tbody tr th {\n",
       "        vertical-align: top;\n",
       "    }\n",
       "\n",
       "    .dataframe thead th {\n",
       "        text-align: right;\n",
       "    }\n",
       "</style>\n",
       "<table border=\"1\" class=\"dataframe\">\n",
       "  <thead>\n",
       "    <tr style=\"text-align: right;\">\n",
       "      <th></th>\n",
       "      <th>HOURS</th>\n",
       "    </tr>\n",
       "  </thead>\n",
       "  <tbody>\n",
       "    <tr>\n",
       "      <th>0</th>\n",
       "      <td>7</td>\n",
       "    </tr>\n",
       "    <tr>\n",
       "      <th>1</th>\n",
       "      <td>15</td>\n",
       "    </tr>\n",
       "    <tr>\n",
       "      <th>2</th>\n",
       "      <td>7</td>\n",
       "    </tr>\n",
       "    <tr>\n",
       "      <th>3</th>\n",
       "      <td>5</td>\n",
       "    </tr>\n",
       "    <tr>\n",
       "      <th>total</th>\n",
       "      <td>34</td>\n",
       "    </tr>\n",
       "  </tbody>\n",
       "</table>\n",
       "</div>"
      ],
      "text/plain": [
       "       HOURS\n",
       "0          7\n",
       "1         15\n",
       "2          7\n",
       "3          5\n",
       "total     34"
      ]
     },
     "execution_count": 92,
     "metadata": {},
     "output_type": "execute_result"
    }
   ],
   "source": [
    "df = pd.read_csv(outputfilename)\n",
    "sum1 = df['HOURS'].sum()\n",
    "df.loc['total'] = sum1\n",
    "df.fillna('')"
   ]
  },
  {
   "cell_type": "code",
   "execution_count": null,
   "metadata": {},
   "outputs": [],
   "source": []
  }
 ],
 "metadata": {
  "kernelspec": {
   "display_name": "Python 3.10.6 64-bit (microsoft store)",
   "language": "python",
   "name": "python3"
  },
  "language_info": {
   "codemirror_mode": {
    "name": "ipython",
    "version": 3
   },
   "file_extension": ".py",
   "mimetype": "text/x-python",
   "name": "python",
   "nbconvert_exporter": "python",
   "pygments_lexer": "ipython3",
   "version": "3.10.6"
  },
  "orig_nbformat": 4,
  "vscode": {
   "interpreter": {
    "hash": "4e393e87d09720360b1b69865354fe84f16943cdd94bb559743b53de59b1c828"
   }
  }
 },
 "nbformat": 4,
 "nbformat_minor": 2
}
